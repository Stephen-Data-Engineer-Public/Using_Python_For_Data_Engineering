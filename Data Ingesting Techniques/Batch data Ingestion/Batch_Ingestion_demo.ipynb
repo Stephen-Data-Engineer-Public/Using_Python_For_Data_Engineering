{
 "cells": [
  {
   "cell_type": "markdown",
   "id": "84db00f0",
   "metadata": {},
   "source": [
    "# Batch Data Ingestion"
   ]
  },
  {
   "cell_type": "markdown",
   "id": "8ab28118",
   "metadata": {},
   "source": []
  },
  {
   "cell_type": "code",
   "execution_count": 14,
   "id": "347f8d12",
   "metadata": {},
   "outputs": [],
   "source": [
    "import uuid\n",
    "import random\n",
    "\n",
    "def generate_sample_data_with_uuid(num_records):\n",
    "    if num_records > 200:\n",
    "        raise ValueError(\"Too many records\")\n",
    "    data = []\n",
    "    for _ in range(num_records):\n",
    "        record = {\n",
    "            'id': str(uuid.uuid4()),\n",
    "            'value': random.random() * 100\n",
    "        }\n",
    "        data.append(record)\n",
    "    return data\n",
    "\n",
    "def process_in_batches(data, batch_size):\n",
    "    for i in range(0, len(data), batch_size):\n",
    "        yield data[i:i + batch_size]\n"
   ]
  },
  {
   "cell_type": "markdown",
   "id": "e5bf4aa5",
   "metadata": {},
   "source": [
    "### Breakdown of the generate_sample_data_with_uuid function\n"
   ]
  },
  {
   "cell_type": "code",
   "execution_count": null,
   "id": "0917b315",
   "metadata": {},
   "outputs": [
    {
     "data": {
      "text/plain": [
       "[]"
      ]
     },
     "execution_count": 17,
     "metadata": {},
     "output_type": "execute_result"
    }
   ],
   "source": [
    "def generate_sample_data_with_uuid(num_records):\n",
    "    \"\"\"\n",
    "    Generate a list of sample data records, each with a unique UUID and a random value using the uuid and random modules.\n",
    "\n",
    "    This function creates sample data.\n",
    "    Each record is a dictionary with:\n",
    "        - 'id': a unique UUID (as a string)\n",
    "        - 'value': a randomly generated float between 0 and 100\n",
    "\n",
    "    Parameters:\n",
    "    ----------\n",
    "    num_records : int\n",
    "        The number of records to generate. Must be 200 or fewer.\n",
    "\n",
    "    Returns:\n",
    "    -------\n",
    "    list of dict\n",
    "        A list of dictionaries, each representing a data record with a UUID and a value.\n",
    "\n",
    "    Raises:\n",
    "    ------\n",
    "    ValueError\n",
    "        If num_records is greater than 200, to avoid excessive data generation.\n",
    "\n",
    "    Example:\n",
    "    -------\n",
    "    >>> generate_sample_data_with_uuid(3)\n",
    "    [{'id': '550e8400-e29b-41d4-a716-446655440000', 'value': 72.3}, ...]\n",
    "    \"\"\"\n",
    "    if num_records > 200:\n",
    "        raise ValueError(\"Too many records\")\n",
    "    data = []\n",
    "    for _ in range(num_records):\n",
    "        record = {\n",
    "            'id': str(uuid.uuid4()),\n",
    "            'value': random.random() * 100\n",
    "        }\n",
    "        data.append(record)\n",
    "    return data\n",
    "\n"
   ]
  },
  {
   "cell_type": "markdown",
   "id": "7a249797",
   "metadata": {},
   "source": [
    "## Understanding the Sample Data Generator Function\n",
    "When building a function to generate sample data, it’s important to consider structure, flexibility, and practical processing needs. Here's a breakdown of the design choices made:\n",
    "\n",
    "#### 1 Define the Data Structure\n",
    "We represent each individual data record as a dictionary in Python.\n",
    "Why a dictionary?\n",
    "\n",
    "- A dictionary allows us to store key-value pairs, making the data self-describing.\n",
    "\n",
    "- Each field (e.g., 'id', 'value') has a label (the key), which makes the data easier to work with when analyzing, transforming, or loading it into other systems.\n",
    "\n",
    "- This mirrors the structure of typical records in databases, JSON APIs, or tabular formats like CSV.\n",
    "\n",
    "#### 2. Determine the Number of Records\n",
    "The function accepts a num_records parameter so the number of records is flexible. This allows you to generate as little or as much data as needed (within reason).\n",
    "\n",
    "To prevent misuse or performance issues, we include a limit of 200 records. This safeguard ensures the function remains lightweight and manageable.\n",
    "\n",
    "#### 3. Use a Container to Hold Records\n",
    "We use a list to collect all generated records.\n",
    "Why a list?\n",
    "\n",
    "- A list is ideal for holding an ordered sequence of items — in this case, dictionaries.\n",
    "- It allows easy iteration over the records, which is essential for batch processing.\n",
    "- Lists support standard Python operations for slicing, batching, and indexing — useful when you want to process data in chunks (e.g., 50 records at a time).\n",
    "\n",
    "#### 4. Loop to Populate the Container\n",
    "A for loop runs num_records times, generating a new dictionary during each iteration. This record is then appended to the list, building our dataset step-by-step.\n",
    "\n",
    "#### 5. Function Purpose: Simulating a Lightweight Data Source\n",
    "Think of this function as a mock database or a stand-in for real-time data ingestion. It simulates structured data that you can use for:\n",
    "\n",
    "- Testing transformation logic\n",
    "- Experimenting with batch processing\n",
    "- Practicing data loading techniques"
   ]
  },
  {
   "cell_type": "code",
   "execution_count": 36,
   "id": "0ca2c36d",
   "metadata": {},
   "outputs": [
    {
     "data": {
      "text/plain": [
       "{'id': 'stephen', 'value': 2, 'iH': 'john', 'values': 10}"
      ]
     },
     "execution_count": 36,
     "metadata": {},
     "output_type": "execute_result"
    }
   ],
   "source": [
    "r = {\n",
    "    \"id\": \"stephen\",\n",
    "    \"value\": 2\n",
    "\n",
    "}\n",
    "\n",
    "r.update({\"iH\": \"john\", \"values\": 10})\n",
    "\n",
    "r"
   ]
  },
  {
   "cell_type": "code",
   "execution_count": 5,
   "id": "bcceda70",
   "metadata": {},
   "outputs": [
    {
     "name": "stdout",
     "output_type": "stream",
     "text": [
      "   custid     companyname        contactname          contacttitle  \\\n",
      "0       1  Customer NRZBB     Allen, Michael  Sales Representative   \n",
      "1       2  Customer MLTDN      Hassall, Mark                 Owner   \n",
      "2       3  Customer KBUDE      Strome, David                 Owner   \n",
      "3       4  Customer HFBZG  Cunningham, Conor  Sales Representative   \n",
      "4       5  Customer HGVLZ  Higginbotham, Tom   Order Administrator   \n",
      "\n",
      "                         address         city region postalcode  country  \\\n",
      "0                Obere Str. 0123       Berlin   None      10092  Germany   \n",
      "1  Avda. de la Constitución 5678  México D.F.   None      10077   Mexico   \n",
      "2                Mataderos  7890  México D.F.   None      10097   Mexico   \n",
      "3               7890 Hanover Sq.       London   None      10046       UK   \n",
      "4             Berguvsvägen  5678        Luleå   None      10112   Sweden   \n",
      "\n",
      "            phone             fax  \n",
      "0     030-3456789     030-0123456  \n",
      "1    (5) 789-0123    (5) 456-7890  \n",
      "2    (5) 123-4567            None  \n",
      "3  (171) 456-7890  (171) 456-7891  \n",
      "4   0921-67 89 01   0921-23 45 67  \n"
     ]
    },
    {
     "name": "stderr",
     "output_type": "stream",
     "text": [
      "C:\\Users\\resga\\AppData\\Local\\Temp\\ipykernel_16608\\1498643512.py:21: UserWarning: pandas only supports SQLAlchemy connectable (engine/connection) or database string URI or sqlite3 DBAPI2 connection. Other DBAPI2 objects are not tested. Please consider using SQLAlchemy.\n",
      "  df = pd.read_sql(query, conn)\n"
     ]
    }
   ],
   "source": [
    "import pyodbc\n",
    "import pandas as pd\n",
    "\n",
    "# Define your connection parameters\n",
    "server = 'STEPHEN_PC'  # or '127.0.0.1' or 'COMPUTERNAME\\SQLEXPRESS'\n",
    "database = 'TSQLV6'\n",
    "\n",
    "# Create the connection string\n",
    "conn_str = (\n",
    "    f\"DRIVER={{ODBC Driver 17 for SQL Server}};\"\n",
    "    f\"SERVER={server};\"\n",
    "    f\"DATABASE={database};\"\n",
    "    f\"Trusted_Connection=yes;\"\n",
    ")\n",
    "\n",
    "# Connect to the database\n",
    "conn = pyodbc.connect(conn_str)\n",
    "\n",
    "# Run a SQL query and load results into a DataFrame\n",
    "query = \"SELECT TOP 10 * FROM [Sales].[Customers]\"\n",
    "df = pd.read_sql(query, conn)\n",
    "\n",
    "# Show results\n",
    "print(df.head())\n",
    "\n",
    "# Close the connection when done\n",
    "conn.close()\n"
   ]
  },
  {
   "cell_type": "code",
   "execution_count": 13,
   "id": "1ce5f314",
   "metadata": {},
   "outputs": [
    {
     "name": "stdout",
     "output_type": "stream",
     "text": [
      "\u001b[31mSignature:\u001b[39m add_numbers(a, b)\n",
      "\u001b[31mDocstring:\u001b[39m\n",
      "Add two numbers together\n",
      "\n",
      "Returns\n",
      "-------\n",
      "the_sum : type of arguments\n",
      "\u001b[31mFile:\u001b[39m      c:\\users\\resga\\appdata\\local\\temp\\ipykernel_16608\\1281721370.py\n",
      "\u001b[31mType:\u001b[39m      function"
     ]
    }
   ],
   "source": [
    "def add_numbers(a, b):\n",
    "    \"\"\"\n",
    "    Add two numbers together\n",
    "\n",
    "    Returns\n",
    "    -------\n",
    "    the_sum : type of arguments\n",
    "    \"\"\"\n",
    "    return a + b\n",
    "\n",
    "add_numbers?"
   ]
  },
  {
   "cell_type": "code",
   "execution_count": 2,
   "id": "62288d8f",
   "metadata": {},
   "outputs": [
    {
     "name": "stdout",
     "output_type": "stream",
     "text": [
      "c:\\Users\\resga\\PYTHON\\resgad-daily-etl\\venv\\Scripts\\python.exe\n"
     ]
    }
   ],
   "source": [
    "import sys\n",
    "print(sys.executable)\n"
   ]
  }
 ],
 "metadata": {
  "kernelspec": {
   "display_name": "Python 3",
   "language": "python",
   "name": "python3"
  },
  "language_info": {
   "codemirror_mode": {
    "name": "ipython",
    "version": 3
   },
   "file_extension": ".py",
   "mimetype": "text/x-python",
   "name": "python",
   "nbconvert_exporter": "python",
   "pygments_lexer": "ipython3",
   "version": "3.13.2"
  }
 },
 "nbformat": 4,
 "nbformat_minor": 5
}
