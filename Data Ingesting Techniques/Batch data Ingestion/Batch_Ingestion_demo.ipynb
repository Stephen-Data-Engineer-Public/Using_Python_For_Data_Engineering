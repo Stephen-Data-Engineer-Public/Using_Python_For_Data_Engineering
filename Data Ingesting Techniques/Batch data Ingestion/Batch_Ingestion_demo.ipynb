{
 "cells": [
  {
   "cell_type": "markdown",
   "id": "84db00f0",
   "metadata": {},
   "source": [
    "# Batch Data Ingestion"
   ]
  },
  {
   "cell_type": "markdown",
   "id": "8ab28118",
   "metadata": {},
   "source": [
    "### Study Case: An **Investment bank** needs to extract, transform, and Load trading data from various financial market into a central data warehouse."
   ]
  },
  {
   "cell_type": "code",
   "execution_count": 21,
   "id": "347f8d12",
   "metadata": {},
   "outputs": [
    {
     "data": {
      "text/plain": [
       "[{'id': '66ce17b9-3d53-4ca3-9b50-8799b0c745c4', 'value': 9.938128826800895},\n",
       " {'id': '6208a564-6b0f-4ba4-95cf-1ede499facd9', 'value': 52.76663401932622},\n",
       " {'id': 'ed616fc4-df02-488c-9760-f02e16e4791c', 'value': 12.048685494028287},\n",
       " {'id': 'cc4c4dfc-510e-4ab9-a8bd-2fca609bf89b', 'value': 13.277005844353285},\n",
       " {'id': 'b82de74a-6266-4649-ac63-075789af84f6', 'value': 95.86577450729519},\n",
       " {'id': '43f45c1d-db07-4fe7-b340-c40ea6ab4533', 'value': 3.9681353082763215},\n",
       " {'id': '13dad5d6-89ab-4f1f-8b94-980929b3767a', 'value': 30.15612668402291},\n",
       " {'id': 'f558ff99-a790-4cde-9a7e-17615f8ff13f', 'value': 3.0577863305526143},\n",
       " {'id': '041dd4d2-d316-4dcc-894d-d7e6f4019e22', 'value': 37.73180260613363},\n",
       " {'id': '3c46e6f8-6fb7-44a1-b8dd-c412c2f05c7a', 'value': 28.19894135278914}]"
      ]
     },
     "execution_count": 21,
     "metadata": {},
     "output_type": "execute_result"
    }
   ],
   "source": [
    "import random\n",
    "import time\n",
    "import uuid\n",
    "\n",
    "# generate data\n",
    "def generate_mock_data(number):\n",
    "    if number > 100:\n",
    "      raise ValueError(\"The number is bigger than 100\")\n",
    "    data = []\n",
    "    for i in range(number):\n",
    "       record = {\n",
    "          \"id\": str(uuid.uuid4()),\n",
    "          \"value\" : random.random() * 100\n",
    "       }\n",
    "       data.append(record)\n",
    "    return data\n",
    "\n",
    "# process data\n",
    "\n",
    "generate_mock_data(10)\n",
    "# transform data\n",
    "\n",
    "\n",
    "# load data\n",
    "\n",
    "\n",
    "# main"
   ]
  }
 ],
 "metadata": {
  "kernelspec": {
   "display_name": "Python (venv)",
   "language": "python",
   "name": "venv"
  },
  "language_info": {
   "codemirror_mode": {
    "name": "ipython",
    "version": 3
   },
   "file_extension": ".py",
   "mimetype": "text/x-python",
   "name": "python",
   "nbconvert_exporter": "python",
   "pygments_lexer": "ipython3",
   "version": "3.13.2"
  }
 },
 "nbformat": 4,
 "nbformat_minor": 5
}
