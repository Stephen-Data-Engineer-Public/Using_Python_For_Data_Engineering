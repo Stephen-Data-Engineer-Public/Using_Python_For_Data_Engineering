{
 "cells": [
  {
   "cell_type": "markdown",
   "id": "84db00f0",
   "metadata": {},
   "source": [
    "# Batch Data Ingestion"
   ]
  },
  {
   "cell_type": "markdown",
   "id": "8ab28118",
   "metadata": {},
   "source": [
    "### Study Case: An **Investment bank** needs to extract, transform, and Load trading data from various financial market into a central data warehouse."
   ]
  }
 ],
 "metadata": {
  "kernelspec": {
   "display_name": "Python (venv)",
   "language": "python",
   "name": "venv"
  },
  "language_info": {
   "codemirror_mode": {
    "name": "ipython",
    "version": 3
   },
   "file_extension": ".py",
   "mimetype": "text/x-python",
   "name": "python",
   "nbconvert_exporter": "python",
   "pygments_lexer": "ipython3",
   "version": "3.13.2"
  }
 },
 "nbformat": 4,
 "nbformat_minor": 5
}
